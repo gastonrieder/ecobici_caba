{
 "cells": [
  {
   "cell_type": "code",
   "execution_count": 2,
   "id": "tropical-channel",
   "metadata": {},
   "outputs": [
    {
     "name": "stderr",
     "output_type": "stream",
     "text": [
      "/Users/gastonrieder/.pyenv/versions/3.7.8/envs/general/lib/python3.7/site-packages/geopandas/_compat.py:110: UserWarning: The Shapely GEOS version (3.8.0-CAPI-1.13.1 ) is incompatible with the GEOS version PyGEOS was compiled with (3.9.0-CAPI-1.16.2). Conversions between both will be slow.\n",
      "  shapely_geos_version, geos_capi_version_string\n"
     ]
    }
   ],
   "source": [
    "import pandas as pd\n",
    "import matplotlib.pyplot as plt\n",
    "import geopandas as gpd\n",
    "import folium\n",
    "from folium.plugins import MarkerCluster"
   ]
  },
  {
   "cell_type": "code",
   "execution_count": 3,
   "id": "fleet-details",
   "metadata": {},
   "outputs": [],
   "source": [
    "ecobici_geojson = 'https://cdn.buenosaires.gob.ar/datosabiertos/datasets/transporte/estaciones-bicicletas-publicas/nuevas-estaciones-bicicletas-publicas.geojson'\n",
    "ecobici = gpd.read_file(ecobici_geojson)"
   ]
  },
  {
   "cell_type": "code",
   "execution_count": 4,
   "id": "retired-gospel",
   "metadata": {},
   "outputs": [],
   "source": [
    "comunas_geojson = 'https://cdn.buenosaires.gob.ar/datosabiertos/datasets/comunas/CABA_comunas.geojson'\n",
    "comunas = gpd.read_file(comunas_geojson)"
   ]
  },
  {
   "cell_type": "code",
   "execution_count": 5,
   "id": "exceptional-document",
   "metadata": {},
   "outputs": [],
   "source": [
    "comunas['COMUNAS'] = comunas['COMUNAS'].astype('int')\n",
    "comunas.drop(columns=['AREA'], inplace=True)"
   ]
  },
  {
   "cell_type": "code",
   "execution_count": 6,
   "id": "rapid-chicken",
   "metadata": {},
   "outputs": [],
   "source": [
    "comunas = comunas.to_crs(epsg=3857)\n",
    "comunas['area'] = comunas.geometry.area / 10**6\n",
    "comunas = comunas.to_crs(epsg=4326)"
   ]
  },
  {
   "cell_type": "code",
   "execution_count": 7,
   "id": "comprehensive-vitamin",
   "metadata": {
    "scrolled": true
   },
   "outputs": [],
   "source": [
    "ecobici['nombre'] = ecobici['nombre'].str.extract('\\d{3}\\s.?([A-zÁ-ú0-9\\s*]+)')\n",
    "ecobici['nombre'] = ecobici['nombre'].str.upper()"
   ]
  },
  {
   "cell_type": "code",
   "execution_count": 8,
   "id": "smart-department",
   "metadata": {},
   "outputs": [],
   "source": [
    "mapa_caba = folium.Map((ecobici.geometry[0].y,ecobici.geometry[0].x), zoom_start = 12, min_zoom=11)"
   ]
  },
  {
   "cell_type": "code",
   "execution_count": 9,
   "id": "elect-hygiene",
   "metadata": {
    "scrolled": true
   },
   "outputs": [],
   "source": [
    "comunas_al_mapa = comunas['geometry'].apply(lambda x: folium.GeoJson(x).add_to(mapa_caba))"
   ]
  },
  {
   "cell_type": "code",
   "execution_count": 10,
   "id": "medieval-collapse",
   "metadata": {},
   "outputs": [],
   "source": [
    "ecobici_cluster = MarkerCluster()"
   ]
  },
  {
   "cell_type": "code",
   "execution_count": 11,
   "id": "stylish-conference",
   "metadata": {},
   "outputs": [],
   "source": [
    "def puntos_ecobici(df):\n",
    "    nombre_ecobici = df['nombre']\n",
    "    popup = nombre_ecobici\n",
    "    estacion_ecobici = folium.Marker((df['geometry'].y, df['geometry'].x), \n",
    "                                     popup=popup,\n",
    "                                     icon=folium.Icon(color=\"green\", icon=\"info-sign\"))\n",
    "    estacion_ecobici.add_to(ecobici_cluster)"
   ]
  },
  {
   "cell_type": "code",
   "execution_count": 12,
   "id": "prepared-bedroom",
   "metadata": {},
   "outputs": [],
   "source": [
    "estaciones_ecobici_al_mapa = ecobici.apply(lambda x: puntos_ecobici(x), axis=1)"
   ]
  },
  {
   "cell_type": "code",
   "execution_count": 13,
   "id": "derived-comparison",
   "metadata": {
    "scrolled": true
   },
   "outputs": [
    {
     "data": {
      "text/plain": [
       "<folium.plugins.marker_cluster.MarkerCluster at 0x11246cc50>"
      ]
     },
     "execution_count": 13,
     "metadata": {},
     "output_type": "execute_result"
    }
   ],
   "source": [
    "ecobici_cluster.add_to(mapa_caba)"
   ]
  },
  {
   "cell_type": "code",
   "execution_count": 14,
   "id": "religious-agent",
   "metadata": {},
   "outputs": [],
   "source": [
    "ecobici_en_comunas = gpd.sjoin(comunas, ecobici, op = 'contains')"
   ]
  },
  {
   "cell_type": "code",
   "execution_count": 15,
   "id": "instant-monster",
   "metadata": {},
   "outputs": [],
   "source": [
    "ecobici_por_comuna = ecobici_en_comunas.groupby('COMUNAS').size()"
   ]
  },
  {
   "cell_type": "code",
   "execution_count": 16,
   "id": "reflected-basic",
   "metadata": {},
   "outputs": [],
   "source": [
    "ecobici_por_comuna_df = ecobici_por_comuna.to_frame(name='n_ecobici').reset_index()"
   ]
  },
  {
   "cell_type": "code",
   "execution_count": 17,
   "id": "brilliant-apparatus",
   "metadata": {},
   "outputs": [],
   "source": [
    "ecobicis_en_comunas_df = pd.merge(comunas, ecobici_por_comuna_df, on='COMUNAS')"
   ]
  },
  {
   "cell_type": "code",
   "execution_count": 18,
   "id": "ordinary-flavor",
   "metadata": {},
   "outputs": [],
   "source": [
    "ecobicis_en_comunas_df['densidad_ecobici'] = ecobicis_en_comunas_df.apply(lambda x: x.n_ecobici/x.area, axis=1)"
   ]
  },
  {
   "cell_type": "code",
   "execution_count": 19,
   "id": "liable-teaching",
   "metadata": {},
   "outputs": [
    {
     "data": {
      "text/plain": [
       "<folium.map.LayerControl at 0x11242d150>"
      ]
     },
     "execution_count": 19,
     "metadata": {},
     "output_type": "execute_result"
    }
   ],
   "source": [
    "folium.Choropleth(geo_data=ecobici_en_comunas,\n",
    "                    name='geometry',\n",
    "                    data=ecobicis_en_comunas_df,\n",
    "                    columns=['COMUNAS', 'densidad_ecobici'],\n",
    "                    key_on='feature.properties.COMUNAS',\n",
    "                    fill_color='YlGn',\n",
    "                    fill_opacity=0.75,\n",
    "                    line_opacity=0.5,\n",
    "                    legend_name='densidad de estaciones de ecobici por comuna en CABA').add_to(mapa_caba)\n",
    "folium.LayerControl().add_to(mapa_caba)"
   ]
  },
  {
   "cell_type": "code",
   "execution_count": 20,
   "id": "cloudy-acrobat",
   "metadata": {},
   "outputs": [],
   "source": [
    "mapa_caba"
   ]
  }
 ],
 "metadata": {
  "kernelspec": {
   "display_name": "Python 3",
   "language": "python",
   "name": "python3"
  },
  "language_info": {
   "codemirror_mode": {
    "name": "ipython",
    "version": 3
   },
   "file_extension": ".py",
   "mimetype": "text/x-python",
   "name": "python",
   "nbconvert_exporter": "python",
   "pygments_lexer": "ipython3",
   "version": "3.7.8"
  }
 },
 "nbformat": 4,
 "nbformat_minor": 5
}
